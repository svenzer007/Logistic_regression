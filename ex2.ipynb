{
  "nbformat": 4,
  "nbformat_minor": 0,
  "metadata": {
    "colab": {
      "name": "ex2.ipynb",
      "provenance": [],
      "authorship_tag": "ABX9TyPMwkaoLL5Nup7qwXqqXmyX",
      "include_colab_link": true
    },
    "kernelspec": {
      "name": "python3",
      "display_name": "Python 3"
    }
  },
  "cells": [
    {
      "cell_type": "markdown",
      "metadata": {
        "id": "view-in-github",
        "colab_type": "text"
      },
      "source": [
        "<a href=\"https://colab.research.google.com/github/svenzer007/Logistic_regression/blob/main/ex2.ipynb\" target=\"_parent\"><img src=\"https://colab.research.google.com/assets/colab-badge.svg\" alt=\"Open In Colab\"/></a>"
      ]
    },
    {
      "cell_type": "code",
      "metadata": {
        "id": "TMDeZ8cp0sbc"
      },
      "source": [
        "import numpy as np\n",
        "import pandas as pd\n",
        "import matplotlib.pyplot as plt"
      ],
      "execution_count": null,
      "outputs": []
    },
    {
      "cell_type": "code",
      "metadata": {
        "id": "RpviDxJm3cNx"
      },
      "source": [
        "def plot(X,Y):\n",
        "  plt.scatter(X[:,0],X[:,1],c=Y)\n",
        "  plt.show()\n",
        "\n",
        "def sigmoid(theta,X):\n",
        "  z = -1*np.matmul(X,theta)\n",
        "  z = 1 + np.exp(z)\n",
        "  z = 1/z\n",
        "  return z\n",
        "\n",
        "def ComputeCost(X,Y,theta):\n",
        "  m = X.shape[0]\n",
        "  cost = (-1/m)*((np.matmul(np.log(np.transpose(sigmoid(theta,X))),Y))+(np.matmul(np.log(1-np.transpose(sigmoid(theta,X))),1-Y)))\n",
        "  return cost\n",
        "\n",
        "def ComputeGradient(X,Y,theta):\n",
        "  m = X.shape[0]\n",
        "  z = sigmoid(theta,X)\n",
        "  #print(z.shape)\n",
        "  grad = (1/m)*(np.matmul(np.transpose(X),((z)-Y)))\n",
        "  return grad\n",
        "\n",
        "def lr_model(X,Y,theta,learning_rate,iterations=20000000):\n",
        "  cost = []\n",
        "  for i in range(iterations):\n",
        "    cost.append(ComputeCost(X,Y,theta))\n",
        "    grad = ComputeGradient(X,Y,theta)\n",
        "    theta = theta - learning_rate*(grad)\n",
        "  return cost, theta"
      ],
      "execution_count": null,
      "outputs": []
    },
    {
      "cell_type": "code",
      "metadata": {
        "colab": {
          "base_uri": "https://localhost:8080/",
          "height": 1000
        },
        "id": "0WecZnEM0s9o",
        "outputId": "cd1d5781-e85b-4ad8-f76c-0fc4b95a3fb3"
      },
      "source": [
        "data = pd.read_csv('/content/sample_data/ex2data1.txt')\n",
        "data = data.to_numpy()\n",
        "X = data[:,0:2]\n",
        "Y = data[:,2].reshape((data.shape[0],1))\n",
        "plot(X,Y)\n",
        "X = X.astype('float64')\n",
        "Y = Y.astype('float64')\n",
        "X = np.hstack((np.ones((X.shape[0],1)),X))\n",
        "print(X)"
      ],
      "execution_count": null,
      "outputs": [
        {
          "output_type": "display_data",
          "data": {
            "image/png": "[encoded data removed]",
            "text/plain": [
              "<Figure size 432x288 with 1 Axes>"
            ]
          },
          "metadata": {
            "tags": [],
            "needs_background": "light"
          }
        },
        {
          "output_type": "stream",
          "text": [
            "[[ 1.         30.28671077 43.89499752]\n",
            " [ 1.         35.84740877 72.90219803]\n",
            " [ 1.         60.18259939 86.3085521 ]\n",
            " [ 1.         79.03273605 75.34437644]\n",
            " [ 1.         45.08327748 56.31637178]\n",
            " [ 1.         61.10666454 96.51142588]\n",
            " [ 1.         75.02474557 46.55401354]\n",
            " [ 1.         76.0987867  87.42056972]\n",
            " [ 1.         84.43281996 43.53339331]\n",
            " [ 1.         95.86155507 38.22527806]\n",
            " [ 1.         75.01365839 30.60326323]\n",
            " [ 1.         82.30705337 76.4819633 ]\n",
            " [ 1.         69.36458876 97.71869196]\n",
            " [ 1.         39.53833914 76.03681085]\n",
            " [ 1.         53.97105215 89.20735014]\n",
            " [ 1.         69.07014406 52.74046973]\n",
            " [ 1.         67.94685548 46.67857411]\n",
            " [ 1.         70.66150955 92.92713789]\n",
            " [ 1.         76.97878373 47.57596365]\n",
            " [ 1.         67.37202755 42.83843832]\n",
            " [ 1.         89.67677575 65.79936593]\n",
            " [ 1.         50.53478829 48.85581153]\n",
            " [ 1.         34.21206098 44.2095286 ]\n",
            " [ 1.         77.92409145 68.97235999]\n",
            " [ 1.         62.27101367 69.95445795]\n",
            " [ 1.         80.19018075 44.82162893]\n",
            " [ 1.         93.1143888  38.80067034]\n",
            " [ 1.         61.83020602 50.25610789]\n",
            " [ 1.         38.7858038  64.99568096]\n",
            " [ 1.         61.37928945 72.80788731]\n",
            " [ 1.         85.40451939 57.05198398]\n",
            " [ 1.         52.10797973 63.12762377]\n",
            " [ 1.         52.04540477 69.43286012]\n",
            " [ 1.         40.23689374 71.16774802]\n",
            " [ 1.         54.63510555 52.21388588]\n",
            " [ 1.         33.91550011 98.86943574]\n",
            " [ 1.         64.17698887 80.90806059]\n",
            " [ 1.         74.78925296 41.57341523]\n",
            " [ 1.         34.18364003 75.23772034]\n",
            " [ 1.         83.90239366 56.30804622]\n",
            " [ 1.         51.54772027 46.85629026]\n",
            " [ 1.         94.44336777 65.56892161]\n",
            " [ 1.         82.36875376 40.61825516]\n",
            " [ 1.         51.04775177 45.82270146]\n",
            " [ 1.         62.22267576 52.06099195]\n",
            " [ 1.         77.19303493 70.4582    ]\n",
            " [ 1.         97.77159928 86.72782233]\n",
            " [ 1.         62.0730638  96.76882412]\n",
            " [ 1.         91.5649745  88.69629255]\n",
            " [ 1.         79.94481794 74.16311935]\n",
            " [ 1.         99.27252693 60.999031  ]\n",
            " [ 1.         90.54671411 43.39060181]\n",
            " [ 1.         34.52451385 60.39634246]\n",
            " [ 1.         50.28649612 49.80453881]\n",
            " [ 1.         49.58667722 59.80895099]\n",
            " [ 1.         97.64563396 68.86157272]\n",
            " [ 1.         32.57720017 95.59854761]\n",
            " [ 1.         74.24869137 69.82457123]\n",
            " [ 1.         71.79646206 78.45356225]\n",
            " [ 1.         75.39561147 85.75993667]\n",
            " [ 1.         35.28611282 47.02051395]\n",
            " [ 1.         56.2538175  39.26147251]\n",
            " [ 1.         30.05882245 49.59297387]\n",
            " [ 1.         44.66826172 66.45008615]\n",
            " [ 1.         66.56089447 41.09209808]\n",
            " [ 1.         40.45755098 97.53518549]\n",
            " [ 1.         49.07256322 51.88321182]\n",
            " [ 1.         80.27957401 92.11606081]\n",
            " [ 1.         66.74671857 60.99139403]\n",
            " [ 1.         32.72283304 43.30717306]\n",
            " [ 1.         64.03932042 78.03168802]\n",
            " [ 1.         72.34649423 96.22759297]\n",
            " [ 1.         60.45788574 73.0949981 ]\n",
            " [ 1.         58.84095622 75.85844831]\n",
            " [ 1.         99.8278578  72.36925193]\n",
            " [ 1.         47.26426911 88.475865  ]\n",
            " [ 1.         50.4581598  75.80985953]\n",
            " [ 1.         60.45555629 42.50840944]\n",
            " [ 1.         82.22666158 42.71987854]\n",
            " [ 1.         88.91389642 69.8037889 ]\n",
            " [ 1.         94.83450672 45.6943068 ]\n",
            " [ 1.         67.31925747 66.58935318]\n",
            " [ 1.         57.23870632 59.51428198]\n",
            " [ 1.         80.366756   90.9601479 ]\n",
            " [ 1.         68.46852179 85.5943071 ]\n",
            " [ 1.         42.07545454 78.844786  ]\n",
            " [ 1.         75.47770201 90.424539  ]\n",
            " [ 1.         78.63542435 96.64742717]\n",
            " [ 1.         52.34800399 60.76950526]\n",
            " [ 1.         94.09433113 77.15910509]\n",
            " [ 1.         90.44855097 87.50879176]\n",
            " [ 1.         55.48216114 35.57070347]\n",
            " [ 1.         74.49269242 84.84513685]\n",
            " [ 1.         89.84580671 45.35828361]\n",
            " [ 1.         83.48916274 48.3802858 ]\n",
            " [ 1.         42.26170081 87.10385094]\n",
            " [ 1.         99.31500881 68.77540947]\n",
            " [ 1.         55.34001756 64.93193801]\n",
            " [ 1.         74.775893   89.5298129 ]]\n"
          ],
          "name": "stdout"
        }
      ]
    },
    {
      "cell_type": "code",
      "metadata": {
        "colab": {
          "base_uri": "https://localhost:8080/",
          "height": 331
        },
        "id": "r9vCGDd_XhSg",
        "outputId": "3c13224e-97ae-4c77-f2dc-faa733f36687"
      },
      "source": [
        "n = X.shape[1]\n",
        "theta = np.zeros((n,1))\n",
        "#print(theta.shape)\n",
        "cost,theta = lr_model(X,Y,theta,learning_rate=0.00035)\n",
        "print(theta)\n",
        "cost = np.array(cost).reshape(np.array(cost).shape[0])\n",
        "plt.plot(np.linspace(0,14999999,15000000),(cost[0:15000000]))\n",
        "plt.show()"
      ],
      "execution_count": null,
      "outputs": [
        {
          "output_type": "stream",
          "text": [
            "[[-23.84999096]\n",
            " [  0.19520135]\n",
            " [  0.19166137]]\n"
          ],
          "name": "stdout"
        },
        {
          "output_type": "display_data",
          "data": {
            "image/png": "[encoded data removed]",
            "text/plain": [
              "<Figure size 432x288 with 1 Axes>"
            ]
          },
          "metadata": {
            "tags": [],
            "needs_background": "light"
          }
        }
      ]
    },
    {
      "cell_type": "code",
      "metadata": {
        "colab": {
          "base_uri": "https://localhost:8080/"
        },
        "id": "-9DDkpguPNzM",
        "outputId": "a56e7bbe-69ea-4025-cc67-7fb2cb0a5813"
      },
      "source": [
        "print(cost[-1])"
      ],
      "execution_count": null,
      "outputs": [
        {
          "output_type": "stream",
          "text": [
            "0.204720321674921\n"
          ],
          "name": "stdout"
        }
      ]
    }
  ]
}